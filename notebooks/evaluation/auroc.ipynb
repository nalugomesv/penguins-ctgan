{
  "cells": [
    {
      "cell_type": "markdown",
      "metadata": {},
      "source": [
        "# Avaliação de Dados Sintéticos vs Reais com AUROC (C2ST)\n",
        "Conjunto de dados: `Palmer Penguins` (Pinguins de Palmer) <br>\n",
        "\n",
        "-Autoras: <br>\n",
        "Ana Luíza Gomes Vieira (analuizagv2000@gmail.com) <br>\n",
        "Sarah Vitória Moreira de Aquino (sarahvitoriaaquino@gmail.com)<br>\n",
        "\n",
        "-Data: <br>\n",
        "Agosto de 2025\n",
        "\n",
        "-Feito no VSCode\n",
        "\n",
        "---\n",
        "\n",
        "A metodologia aplicada segue a abordagem descrita no artigo da Inflammatix:\n",
        "\n",
        "> **Lessons learned for generative AI for tabular data**  \n",
        "> Kirindi Choi, Ljubomir Buturovic, Roland Luethy — Inflammatix, Inc.  \n",
        "> Disponível em: https://inflammatix.com/lessons-learned-for-generative-ai-for-tabular-data-blog/\n",
        "\n",
        "---"
      ]
    },
    {
      "cell_type": "code",
      "execution_count": 1,
      "metadata": {
        "id": "2pjuAU04rK91"
      },
      "outputs": [
        {
          "name": "stderr",
          "output_type": "stream",
          "text": [
            "C:\\Users\\analu\\AppData\\Local\\Packages\\PythonSoftwareFoundation.Python.3.13_qbz5n2kfra8p0\\LocalCache\\local-packages\\Python313\\site-packages\\tqdm\\auto.py:21: TqdmWarning: IProgress not found. Please update jupyter and ipywidgets. See https://ipywidgets.readthedocs.io/en/stable/user_install.html\n",
            "  from .autonotebook import tqdm as notebook_tqdm\n"
          ]
        }
      ],
      "source": [
        "import numpy as np\n",
        "import pandas as pd\n",
        "from sklearn.model_selection import StratifiedKFold, cross_val_score\n",
        "from sklearn.preprocessing import OneHotEncoder, StandardScaler\n",
        "from sklearn.compose import ColumnTransformer\n",
        "from sklearn.pipeline import Pipeline\n",
        "from sklearn.impute import SimpleImputer\n",
        "from sklearn.linear_model import LogisticRegression\n",
        "import optuna\n",
        "import tkinter as tk\n",
        "from tkinter import filedialog\n",
        "import os\n",
        "\n",
        "RANDOM_STATE = 42"
      ]
    },
    {
      "cell_type": "code",
      "execution_count": null,
      "metadata": {
        "colab": {
          "base_uri": "https://localhost:8080/",
          "height": 73
        },
        "id": "2IuV9XmDrZ7r",
        "outputId": "c808b6e9-f9d3-4062-cef9-b12b0ac3b150"
      },
      "outputs": [],
      "source": [
        " # Caminho manual, sem seletor\n",
        "caminho_arquivo = r\"C:\\Users\\analu\\Documents\\TESTES\\versao_final\\dados_sinteticos.json\"\n",
        "penguins_sintetico = pd.read_json(caminho_arquivo)"
      ]
    },
    {
      "cell_type": "code",
      "execution_count": 3,
      "metadata": {
        "id": "l-LTqAydrbSI"
      },
      "outputs": [],
      "source": [
        "penguins_real = pd.read_csv('https://raw.githubusercontent.com/ftorresd/OCEAN-datasets/main/penguins/penguins.csv')"
      ]
    },
    {
      "cell_type": "code",
      "execution_count": 4,
      "metadata": {
        "id": "OZAa_KHtrNEu"
      },
      "outputs": [],
      "source": [
        "# use apenas colunas em comum (remova alvos, se existirem)\n",
        "forbidden = {\"class\", \"target\", \"label\"}\n",
        "common_cols = sorted(set(penguins_real.columns) & set(penguins_sintetico.columns) - forbidden)\n",
        "\n",
        "X_real = penguins_real[common_cols].copy()\n",
        "X_syn  = penguins_sintetico[common_cols].copy()\n",
        "\n",
        "y_real = np.zeros(len(X_real), dtype=int)  # classe negativa\n",
        "y_syn  = np.ones(len(X_syn), dtype=int)    # classe positiva (como no artigo)\n",
        "\n",
        "# concatenar e embaralhar\n",
        "X = pd.concat([X_real, X_syn], ignore_index=True)\n",
        "y = np.concatenate([y_real, y_syn])\n",
        "\n",
        "rng = np.random.RandomState(RANDOM_STATE)\n",
        "idx = rng.permutation(len(X))\n",
        "X = X.iloc[idx].reset_index(drop=True)\n",
        "y = y[idx]\n"
      ]
    },
    {
      "cell_type": "code",
      "execution_count": 5,
      "metadata": {
        "id": "Xvg85YLZrOa2"
      },
      "outputs": [],
      "source": [
        "def split_cols_by_types(X, metadados=None):\n",
        "    if metadados is not None and set([\"name\",\"sdtype\"]).issubset(metadados.columns):\n",
        "        # mapeia os sdtypes da SDV para num/cat\n",
        "        num_types = {\"numerical\"}\n",
        "        cat_types = {\"categorical\", \"boolean\"}\n",
        "        cat_cols = [row[\"name\"] for _, row in metadados.iterrows() if row[\"sdtype\"] in cat_types and row[\"name\"] in X.columns]\n",
        "        num_cols = [row[\"name\"] for _, row in metadados.iterrows() if row[\"sdtype\"] in num_types and row[\"name\"] in X.columns]\n",
        "        # qualquer coluna faltante cai por dtype:\n",
        "        remaining = [c for c in X.columns if c not in cat_cols + num_cols]\n",
        "        num_cols += [c for c in remaining if np.issubdtype(X[c].dtype, np.number)]\n",
        "        cat_cols += [c for c in remaining if c not in num_cols]\n",
        "    else:\n",
        "        num_cols = X.select_dtypes(include=np.number).columns.tolist()\n",
        "        cat_cols = [c for c in X.columns if c not in num_cols]\n",
        "    return num_cols, cat_cols\n",
        "\n",
        "num_cols, cat_cols = split_cols_by_types(X, metadados if 'metadados' in globals() else None)\n",
        "\n",
        "# pré-processador\n",
        "numeric = Pipeline([\n",
        "    (\"imp\", SimpleImputer(strategy=\"median\")),\n",
        "    (\"sc\",  StandardScaler(with_mean=False)),\n",
        "])\n",
        "\n",
        "# compatível com versões antigas/novas do sklearn\n",
        "try:\n",
        "    categorical = Pipeline([\n",
        "        (\"imp\", SimpleImputer(strategy=\"most_frequent\")),\n",
        "        (\"oh\",  OneHotEncoder(handle_unknown=\"ignore\", sparse_output=False)),\n",
        "    ])\n",
        "except TypeError:\n",
        "    categorical = Pipeline([\n",
        "        (\"imp\", SimpleImputer(strategy=\"most_frequent\")),\n",
        "        (\"oh\",  OneHotEncoder(handle_unknown=\"ignore\", sparse=False)),\n",
        "    ])\n",
        "\n",
        "preprocess = ColumnTransformer([\n",
        "    (\"num\", numeric, num_cols),\n",
        "    (\"cat\", categorical, cat_cols),\n",
        "], remainder=\"drop\")\n"
      ]
    },
    {
      "cell_type": "code",
      "execution_count": 6,
      "metadata": {
        "id": "9S2IXFVLrQMx"
      },
      "outputs": [],
      "source": [
        "def objective(trial):\n",
        "    penalty = trial.suggest_categorical(\"penalty\", [\"l1\", \"l2\"])\n",
        "    C = trial.suggest_float(\"C\", 1e-3, 1e3, log=True)\n",
        "    class_weight = trial.suggest_categorical(\"class_weight\", [None, \"balanced\"])\n",
        "\n",
        "    clf = LogisticRegression(\n",
        "        penalty=penalty, C=C, class_weight=class_weight,\n",
        "        solver=\"liblinear\", random_state=42, max_iter=2000\n",
        "    )\n",
        "\n",
        "    pipe = Pipeline([(\"prep\", preprocess), (\"clf\", clf)])\n",
        "    cv = StratifiedKFold(n_splits=5, shuffle=True, random_state=42)\n",
        "\n",
        "    scores = cross_val_score(pipe, X, y, cv=cv, scoring=\"roc_auc\", n_jobs=1)\n",
        "    return float(scores.mean())"
      ]
    },
    {
      "cell_type": "code",
      "execution_count": 7,
      "metadata": {
        "colab": {
          "base_uri": "https://localhost:8080/",
          "height": 295,
          "referenced_widgets": [
            "f49e24ebf9854ff0be4147448c1c05a4",
            "7d2230b850e743309780c63f33d3ab57",
            "fb7c75696d6e4a89a86953c6915746f8",
            "a1d877c35ad74a469ead4c0674beece0",
            "8b549c34eab34a1d859bf505d0d122fe",
            "3f55b3b07086416fb3d6d7b438edd608",
            "150e18a387e648c882a1798adbcc1eab",
            "36a7bb7d061b4bc2950b0e1a2308a5cb",
            "d9eb922716f34a3c8a2b606f2807cb68",
            "663e6c290b204039ab794efed0672dab",
            "ee17af6a1e4f40d3b7e4e8e090fc363d"
          ]
        },
        "id": "5phu6vMMrRph",
        "outputId": "30c1a6e3-d7f6-4422-9441-33b29168399e"
      },
      "outputs": [
        {
          "name": "stderr",
          "output_type": "stream",
          "text": [
            "[I 2025-08-21 12:15:21,116] A new study created in memory with name: c2st_auroc_penguins\n",
            "[I 2025-08-21 12:15:21,635] Trial 0 finished with value: 0.5499682011935209 and parameters: {'penalty': 'l2', 'C': 0.0074239343445994055, 'class_weight': 'balanced'}. Best is trial 0 with value: 0.5499682011935209.\n",
            "[I 2025-08-21 12:15:25,345] Trial 1 finished with value: 0.5352636615515772 and parameters: {'penalty': 'l1', 'C': 742.2250787020959, 'class_weight': None}. Best is trial 0 with value: 0.5499682011935209.\n",
            "[I 2025-08-21 12:15:27,822] Trial 2 finished with value: 0.545517156862745 and parameters: {'penalty': 'l1', 'C': 0.232232905275884, 'class_weight': None}. Best is trial 0 with value: 0.5499682011935209.\n",
            "[I 2025-08-21 12:17:17,750] Trial 3 finished with value: 0.5475939258312021 and parameters: {'penalty': 'l1', 'C': 161.3861533419216, 'class_weight': 'balanced'}. Best is trial 0 with value: 0.5499682011935209.\n",
            "[I 2025-08-21 12:17:23,563] Trial 4 finished with value: 0.5356034953111679 and parameters: {'penalty': 'l1', 'C': 87.79559841802843, 'class_weight': None}. Best is trial 0 with value: 0.5499682011935209.\n",
            "[I 2025-08-21 12:17:44,238] Trial 5 finished with value: 0.547853473998295 and parameters: {'penalty': 'l1', 'C': 9.046099490551764, 'class_weight': 'balanced'}. Best is trial 0 with value: 0.5499682011935209.\n",
            "[I 2025-08-21 12:17:45,692] Trial 6 finished with value: 0.540165579710145 and parameters: {'penalty': 'l2', 'C': 1.2002972139383323, 'class_weight': None}. Best is trial 0 with value: 0.5499682011935209.\n",
            "[I 2025-08-21 12:20:39,456] Trial 7 finished with value: 0.5475924126172209 and parameters: {'penalty': 'l1', 'C': 642.4589713183179, 'class_weight': 'balanced'}. Best is trial 0 with value: 0.5499682011935209.\n",
            "[I 2025-08-21 12:20:43,449] Trial 8 finished with value: 0.5422254262574595 and parameters: {'penalty': 'l1', 'C': 0.616516902858361, 'class_weight': None}. Best is trial 0 with value: 0.5499682011935209.\n",
            "[I 2025-08-21 12:20:49,557] Trial 9 finished with value: 0.5463813618925831 and parameters: {'penalty': 'l1', 'C': 0.040984374664693575, 'class_weight': 'balanced'}. Best is trial 0 with value: 0.5499682011935209.\n",
            "[I 2025-08-21 12:20:50,356] Trial 10 finished with value: 0.5469625532821825 and parameters: {'penalty': 'l2', 'C': 0.003261613952106654, 'class_weight': 'balanced'}. Best is trial 0 with value: 0.5499682011935209.\n",
            "[I 2025-08-21 12:20:51,182] Trial 11 finished with value: 0.5476725490196078 and parameters: {'penalty': 'l2', 'C': 8.515269080247483, 'class_weight': 'balanced'}. Best is trial 0 with value: 0.5499682011935209.\n",
            "[I 2025-08-21 12:20:51,972] Trial 12 finished with value: 0.5405324808184144 and parameters: {'penalty': 'l2', 'C': 0.0011397347414475532, 'class_weight': 'balanced'}. Best is trial 0 with value: 0.5499682011935209.\n",
            "[I 2025-08-21 12:20:52,819] Trial 13 finished with value: 0.547668179880648 and parameters: {'penalty': 'l2', 'C': 8.383696207899504, 'class_weight': 'balanced'}. Best is trial 0 with value: 0.5499682011935209.\n",
            "[I 2025-08-21 12:20:53,617] Trial 14 finished with value: 0.5510523444160272 and parameters: {'penalty': 'l2', 'C': 0.01691059310930981, 'class_weight': 'balanced'}. Best is trial 14 with value: 0.5510523444160272.\n",
            "[I 2025-08-21 12:20:54,424] Trial 15 finished with value: 0.5510134484228474 and parameters: {'penalty': 'l2', 'C': 0.01657123347923862, 'class_weight': 'balanced'}. Best is trial 14 with value: 0.5510523444160272.\n",
            "[I 2025-08-21 12:20:55,277] Trial 16 finished with value: 0.551042220801364 and parameters: {'penalty': 'l2', 'C': 0.03299614011927109, 'class_weight': 'balanced'}. Best is trial 14 with value: 0.5510523444160272.\n",
            "[I 2025-08-21 12:20:56,099] Trial 17 finished with value: 0.5503859335038364 and parameters: {'penalty': 'l2', 'C': 0.07594838230078171, 'class_weight': 'balanced'}. Best is trial 14 with value: 0.5510523444160272.\n",
            "[I 2025-08-21 12:20:56,931] Trial 18 finished with value: 0.5502141304347826 and parameters: {'penalty': 'l2', 'C': 0.09438503231556519, 'class_weight': 'balanced'}. Best is trial 14 with value: 0.5510523444160272.\n",
            "[I 2025-08-21 12:20:57,759] Trial 19 finished with value: 0.5510143009377664 and parameters: {'penalty': 'l2', 'C': 0.017335971504527804, 'class_weight': 'balanced'}. Best is trial 14 with value: 0.5510523444160272.\n",
            "[I 2025-08-21 12:20:58,573] Trial 20 finished with value: 0.5423799872122762 and parameters: {'penalty': 'l2', 'C': 0.001514728563762957, 'class_weight': 'balanced'}. Best is trial 14 with value: 0.5510523444160272.\n",
            "[I 2025-08-21 12:20:59,418] Trial 21 finished with value: 0.5508515345268542 and parameters: {'penalty': 'l2', 'C': 0.012686727796682382, 'class_weight': 'balanced'}. Best is trial 14 with value: 0.5510523444160272.\n",
            "[I 2025-08-21 12:21:00,251] Trial 22 finished with value: 0.5511351236146632 and parameters: {'penalty': 'l2', 'C': 0.026166839847692115, 'class_weight': 'balanced'}. Best is trial 22 with value: 0.5511351236146632.\n",
            "[I 2025-08-21 12:21:01,081] Trial 23 finished with value: 0.54930694799659 and parameters: {'penalty': 'l2', 'C': 0.2642560324604106, 'class_weight': 'balanced'}. Best is trial 22 with value: 0.5511351236146632.\n",
            "[I 2025-08-21 12:21:01,874] Trial 24 finished with value: 0.5490773870417732 and parameters: {'penalty': 'l2', 'C': 0.005489916930320282, 'class_weight': 'balanced'}. Best is trial 22 with value: 0.5511351236146632.\n",
            "[I 2025-08-21 12:21:02,678] Trial 25 finished with value: 0.5510467178175616 and parameters: {'penalty': 'l2', 'C': 0.03248626380357387, 'class_weight': 'balanced'}. Best is trial 22 with value: 0.5511351236146632.\n",
            "[I 2025-08-21 12:21:03,571] Trial 26 finished with value: 0.5402886828644501 and parameters: {'penalty': 'l2', 'C': 1.054053801343642, 'class_weight': None}. Best is trial 22 with value: 0.5511351236146632.\n",
            "[I 2025-08-21 12:21:04,408] Trial 27 finished with value: 0.5496770673486786 and parameters: {'penalty': 'l2', 'C': 0.18029100438563508, 'class_weight': 'balanced'}. Best is trial 22 with value: 0.5511351236146632.\n",
            "[I 2025-08-21 12:21:05,224] Trial 28 finished with value: 0.5474932225063939 and parameters: {'penalty': 'l2', 'C': 0.003756781620744987, 'class_weight': 'balanced'}. Best is trial 22 with value: 0.5511351236146632.\n",
            "[I 2025-08-21 12:21:06,046] Trial 29 finished with value: 0.5504132779198636 and parameters: {'penalty': 'l2', 'C': 0.009284367187268758, 'class_weight': 'balanced'}. Best is trial 22 with value: 0.5511351236146632.\n",
            "[I 2025-08-21 12:21:06,865] Trial 30 finished with value: 0.547938789428815 and parameters: {'penalty': 'l2', 'C': 2.440811626555518, 'class_weight': 'balanced'}. Best is trial 22 with value: 0.5511351236146632.\n",
            "[I 2025-08-21 12:21:07,714] Trial 31 finished with value: 0.5509806692242114 and parameters: {'penalty': 'l2', 'C': 0.035777355319246064, 'class_weight': 'balanced'}. Best is trial 22 with value: 0.5511351236146632.\n",
            "[I 2025-08-21 12:21:08,620] Trial 32 finished with value: 0.5508991901108269 and parameters: {'penalty': 'l2', 'C': 0.04144087539134658, 'class_weight': 'balanced'}. Best is trial 22 with value: 0.5511351236146632.\n",
            "[I 2025-08-21 12:21:09,525] Trial 33 finished with value: 0.5501545396419437 and parameters: {'penalty': 'l2', 'C': 0.09919158986147188, 'class_weight': 'balanced'}. Best is trial 22 with value: 0.5511351236146632.\n",
            "[I 2025-08-21 12:21:10,397] Trial 34 finished with value: 0.5355970375106563 and parameters: {'penalty': 'l2', 'C': 0.025311026126992892, 'class_weight': None}. Best is trial 22 with value: 0.5511351236146632.\n",
            "[I 2025-08-21 12:21:11,255] Trial 35 finished with value: 0.5490096973572037 and parameters: {'penalty': 'l2', 'C': 0.3542340073853287, 'class_weight': 'balanced'}. Best is trial 22 with value: 0.5511351236146632.\n",
            "[I 2025-08-21 12:21:12,031] Trial 36 finished with value: 0.5063553708439897 and parameters: {'penalty': 'l2', 'C': 0.0033417118287773105, 'class_weight': None}. Best is trial 22 with value: 0.5511351236146632.\n",
            "[I 2025-08-21 12:21:14,499] Trial 37 finished with value: 0.5505007139812447 and parameters: {'penalty': 'l1', 'C': 0.007899430207399836, 'class_weight': 'balanced'}. Best is trial 22 with value: 0.5511351236146632.\n",
            "[I 2025-08-21 12:21:15,253] Trial 38 finished with value: 0.5503333333333333 and parameters: {'penalty': 'l2', 'C': 0.08273423045479596, 'class_weight': 'balanced'}. Best is trial 22 with value: 0.5511351236146632.\n",
            "[I 2025-08-21 12:21:19,113] Trial 39 finished with value: 0.5375292412617221 and parameters: {'penalty': 'l1', 'C': 2.8970631489540732, 'class_weight': None}. Best is trial 22 with value: 0.5511351236146632.\n",
            "[I 2025-08-21 12:21:19,876] Trial 40 finished with value: 0.5496330349531117 and parameters: {'penalty': 'l2', 'C': 0.1898762342210132, 'class_weight': 'balanced'}. Best is trial 22 with value: 0.5511351236146632.\n",
            "[I 2025-08-21 12:21:20,684] Trial 41 finished with value: 0.5509375532821824 and parameters: {'penalty': 'l2', 'C': 0.015708062524805604, 'class_weight': 'balanced'}. Best is trial 22 with value: 0.5511351236146632.\n",
            "[I 2025-08-21 12:21:21,510] Trial 42 finished with value: 0.5511350596760443 and parameters: {'penalty': 'l2', 'C': 0.02857181711081851, 'class_weight': 'balanced'}. Best is trial 22 with value: 0.5511351236146632.\n",
            "[I 2025-08-21 12:21:22,229] Trial 43 finished with value: 0.5505829283887469 and parameters: {'penalty': 'l2', 'C': 0.05606375915213031, 'class_weight': 'balanced'}. Best is trial 22 with value: 0.5511351236146632.\n",
            "[I 2025-08-21 12:21:22,887] Trial 44 finished with value: 0.5 and parameters: {'penalty': 'l1', 'C': 0.0019262752868450855, 'class_weight': 'balanced'}. Best is trial 22 with value: 0.5511351236146632.\n",
            "[I 2025-08-21 12:21:23,677] Trial 45 finished with value: 0.5486600809889173 and parameters: {'penalty': 'l2', 'C': 0.5078525780535861, 'class_weight': 'balanced'}. Best is trial 22 with value: 0.5511351236146632.\n",
            "[I 2025-08-21 12:21:24,475] Trial 46 finished with value: 0.5511074808184142 and parameters: {'penalty': 'l2', 'C': 0.02902833408920024, 'class_weight': 'balanced'}. Best is trial 22 with value: 0.5511351236146632.\n",
            "[I 2025-08-21 12:21:25,183] Trial 47 finished with value: 0.5143065217391304 and parameters: {'penalty': 'l2', 'C': 0.0059586098164487655, 'class_weight': None}. Best is trial 22 with value: 0.5511351236146632.\n",
            "[I 2025-08-21 12:21:32,059] Trial 48 finished with value: 0.5508931159420289 and parameters: {'penalty': 'l1', 'C': 0.1271541037863294, 'class_weight': 'balanced'}. Best is trial 22 with value: 0.5511351236146632.\n",
            "[I 2025-08-21 12:21:32,869] Trial 49 finished with value: 0.547593904518329 and parameters: {'penalty': 'l2', 'C': 89.33191161183869, 'class_weight': 'balanced'}. Best is trial 22 with value: 0.5511351236146632.\n"
          ]
        },
        {
          "name": "stdout",
          "output_type": "stream",
          "text": [
            "== RESULTADO ==\n",
            "Melhor AUROC (CV): 0.5511\n",
            "Melhores hiperparâmetros: {'penalty': 'l2', 'C': 0.026166839847692115, 'class_weight': 'balanced'}\n"
          ]
        }
      ],
      "source": [
        "study = optuna.create_study(direction=\"maximize\", study_name=\"c2st_auroc_penguins\")\n",
        "study.optimize(objective, n_trials=50, show_progress_bar=False)\n",
        "\n",
        "print(\"== RESULTADO ==\")\n",
        "print(\"Melhor AUROC (CV):\", round(study.best_value, 4))\n",
        "print(\"Melhores hiperparâmetros:\", study.best_params)"
      ]
    },
    {
      "cell_type": "code",
      "execution_count": 8,
      "metadata": {
        "id": "Hx9BpRP2rTVF"
      },
      "outputs": [
        {
          "name": "stdout",
          "output_type": "stream",
          "text": [
            "AUROC por dobra: [0.536  0.5098 0.5479 0.5582 0.6036]\n",
            "Média ± DP: 0.5511 ± 0.0308\n"
          ]
        }
      ],
      "source": [
        "best = study.best_params\n",
        "best_clf = LogisticRegression(\n",
        "    penalty=best[\"penalty\"],\n",
        "    C=best[\"C\"],\n",
        "    class_weight=best[\"class_weight\"],\n",
        "    solver=\"liblinear\",\n",
        "    random_state=RANDOM_STATE,\n",
        "    max_iter=2000,\n",
        ")\n",
        "\n",
        "pipe = Pipeline([(\"prep\", preprocess), (\"clf\", best_clf)])\n",
        "cv = StratifiedKFold(n_splits=5, shuffle=True, random_state=RANDOM_STATE)\n",
        "folds = cross_val_score(pipe, X, y, cv=cv, scoring=\"roc_auc\", n_jobs=1)\n",
        "print(\"AUROC por dobra:\", np.round(folds, 4))\n",
        "print(\"Média ± DP:\", round(folds.mean(),4), \"±\", round(folds.std(),4))\n"
      ]
    }
  ],
  "metadata": {
    "colab": {
      "provenance": []
    },
    "kernelspec": {
      "display_name": "Python 3",
      "name": "python3"
    },
    "language_info": {
      "codemirror_mode": {
        "name": "ipython",
        "version": 3
      },
      "file_extension": ".py",
      "mimetype": "text/x-python",
      "name": "python",
      "nbconvert_exporter": "python",
      "pygments_lexer": "ipython3",
      "version": "3.13.7"
    },
    "widgets": {
      "application/vnd.jupyter.widget-state+json": {
        "150e18a387e648c882a1798adbcc1eab": {
          "model_module": "@jupyter-widgets/controls",
          "model_module_version": "1.5.0",
          "model_name": "DescriptionStyleModel",
          "state": {
            "_model_module": "@jupyter-widgets/controls",
            "_model_module_version": "1.5.0",
            "_model_name": "DescriptionStyleModel",
            "_view_count": null,
            "_view_module": "@jupyter-widgets/base",
            "_view_module_version": "1.2.0",
            "_view_name": "StyleView",
            "description_width": ""
          }
        },
        "36a7bb7d061b4bc2950b0e1a2308a5cb": {
          "model_module": "@jupyter-widgets/base",
          "model_module_version": "1.2.0",
          "model_name": "LayoutModel",
          "state": {
            "_model_module": "@jupyter-widgets/base",
            "_model_module_version": "1.2.0",
            "_model_name": "LayoutModel",
            "_view_count": null,
            "_view_module": "@jupyter-widgets/base",
            "_view_module_version": "1.2.0",
            "_view_name": "LayoutView",
            "align_content": null,
            "align_items": null,
            "align_self": null,
            "border": null,
            "bottom": null,
            "display": null,
            "flex": null,
            "flex_flow": null,
            "grid_area": null,
            "grid_auto_columns": null,
            "grid_auto_flow": null,
            "grid_auto_rows": null,
            "grid_column": null,
            "grid_gap": null,
            "grid_row": null,
            "grid_template_areas": null,
            "grid_template_columns": null,
            "grid_template_rows": null,
            "height": null,
            "justify_content": null,
            "justify_items": null,
            "left": null,
            "margin": null,
            "max_height": null,
            "max_width": null,
            "min_height": null,
            "min_width": null,
            "object_fit": null,
            "object_position": null,
            "order": null,
            "overflow": null,
            "overflow_x": null,
            "overflow_y": null,
            "padding": null,
            "right": null,
            "top": null,
            "visibility": null,
            "width": null
          }
        },
        "3f55b3b07086416fb3d6d7b438edd608": {
          "model_module": "@jupyter-widgets/base",
          "model_module_version": "1.2.0",
          "model_name": "LayoutModel",
          "state": {
            "_model_module": "@jupyter-widgets/base",
            "_model_module_version": "1.2.0",
            "_model_name": "LayoutModel",
            "_view_count": null,
            "_view_module": "@jupyter-widgets/base",
            "_view_module_version": "1.2.0",
            "_view_name": "LayoutView",
            "align_content": null,
            "align_items": null,
            "align_self": null,
            "border": null,
            "bottom": null,
            "display": null,
            "flex": null,
            "flex_flow": null,
            "grid_area": null,
            "grid_auto_columns": null,
            "grid_auto_flow": null,
            "grid_auto_rows": null,
            "grid_column": null,
            "grid_gap": null,
            "grid_row": null,
            "grid_template_areas": null,
            "grid_template_columns": null,
            "grid_template_rows": null,
            "height": null,
            "justify_content": null,
            "justify_items": null,
            "left": null,
            "margin": null,
            "max_height": null,
            "max_width": null,
            "min_height": null,
            "min_width": null,
            "object_fit": null,
            "object_position": null,
            "order": null,
            "overflow": null,
            "overflow_x": null,
            "overflow_y": null,
            "padding": null,
            "right": null,
            "top": null,
            "visibility": null,
            "width": null
          }
        },
        "663e6c290b204039ab794efed0672dab": {
          "model_module": "@jupyter-widgets/base",
          "model_module_version": "1.2.0",
          "model_name": "LayoutModel",
          "state": {
            "_model_module": "@jupyter-widgets/base",
            "_model_module_version": "1.2.0",
            "_model_name": "LayoutModel",
            "_view_count": null,
            "_view_module": "@jupyter-widgets/base",
            "_view_module_version": "1.2.0",
            "_view_name": "LayoutView",
            "align_content": null,
            "align_items": null,
            "align_self": null,
            "border": null,
            "bottom": null,
            "display": null,
            "flex": null,
            "flex_flow": null,
            "grid_area": null,
            "grid_auto_columns": null,
            "grid_auto_flow": null,
            "grid_auto_rows": null,
            "grid_column": null,
            "grid_gap": null,
            "grid_row": null,
            "grid_template_areas": null,
            "grid_template_columns": null,
            "grid_template_rows": null,
            "height": null,
            "justify_content": null,
            "justify_items": null,
            "left": null,
            "margin": null,
            "max_height": null,
            "max_width": null,
            "min_height": null,
            "min_width": null,
            "object_fit": null,
            "object_position": null,
            "order": null,
            "overflow": null,
            "overflow_x": null,
            "overflow_y": null,
            "padding": null,
            "right": null,
            "top": null,
            "visibility": null,
            "width": null
          }
        },
        "7d2230b850e743309780c63f33d3ab57": {
          "model_module": "@jupyter-widgets/controls",
          "model_module_version": "1.5.0",
          "model_name": "HTMLModel",
          "state": {
            "_dom_classes": [],
            "_model_module": "@jupyter-widgets/controls",
            "_model_module_version": "1.5.0",
            "_model_name": "HTMLModel",
            "_view_count": null,
            "_view_module": "@jupyter-widgets/controls",
            "_view_module_version": "1.5.0",
            "_view_name": "HTMLView",
            "description": "",
            "description_tooltip": null,
            "layout": "IPY_MODEL_3f55b3b07086416fb3d6d7b438edd608",
            "placeholder": "​",
            "style": "IPY_MODEL_150e18a387e648c882a1798adbcc1eab",
            "value": "Best trial: 1. Best value: 0.626248:  24%"
          }
        },
        "8b549c34eab34a1d859bf505d0d122fe": {
          "model_module": "@jupyter-widgets/base",
          "model_module_version": "1.2.0",
          "model_name": "LayoutModel",
          "state": {
            "_model_module": "@jupyter-widgets/base",
            "_model_module_version": "1.2.0",
            "_model_name": "LayoutModel",
            "_view_count": null,
            "_view_module": "@jupyter-widgets/base",
            "_view_module_version": "1.2.0",
            "_view_name": "LayoutView",
            "align_content": null,
            "align_items": null,
            "align_self": null,
            "border": null,
            "bottom": null,
            "display": null,
            "flex": null,
            "flex_flow": null,
            "grid_area": null,
            "grid_auto_columns": null,
            "grid_auto_flow": null,
            "grid_auto_rows": null,
            "grid_column": null,
            "grid_gap": null,
            "grid_row": null,
            "grid_template_areas": null,
            "grid_template_columns": null,
            "grid_template_rows": null,
            "height": null,
            "justify_content": null,
            "justify_items": null,
            "left": null,
            "margin": null,
            "max_height": null,
            "max_width": null,
            "min_height": null,
            "min_width": null,
            "object_fit": null,
            "object_position": null,
            "order": null,
            "overflow": null,
            "overflow_x": null,
            "overflow_y": null,
            "padding": null,
            "right": null,
            "top": null,
            "visibility": null,
            "width": null
          }
        },
        "a1d877c35ad74a469ead4c0674beece0": {
          "model_module": "@jupyter-widgets/controls",
          "model_module_version": "1.5.0",
          "model_name": "HTMLModel",
          "state": {
            "_dom_classes": [],
            "_model_module": "@jupyter-widgets/controls",
            "_model_module_version": "1.5.0",
            "_model_name": "HTMLModel",
            "_view_count": null,
            "_view_module": "@jupyter-widgets/controls",
            "_view_module_version": "1.5.0",
            "_view_name": "HTMLView",
            "description": "",
            "description_tooltip": null,
            "layout": "IPY_MODEL_663e6c290b204039ab794efed0672dab",
            "placeholder": "​",
            "style": "IPY_MODEL_ee17af6a1e4f40d3b7e4e8e090fc363d",
            "value": " 12/50 [13:57&lt;1:44:39, 165.26s/it]"
          }
        },
        "d9eb922716f34a3c8a2b606f2807cb68": {
          "model_module": "@jupyter-widgets/controls",
          "model_module_version": "1.5.0",
          "model_name": "ProgressStyleModel",
          "state": {
            "_model_module": "@jupyter-widgets/controls",
            "_model_module_version": "1.5.0",
            "_model_name": "ProgressStyleModel",
            "_view_count": null,
            "_view_module": "@jupyter-widgets/base",
            "_view_module_version": "1.2.0",
            "_view_name": "StyleView",
            "bar_color": null,
            "description_width": ""
          }
        },
        "ee17af6a1e4f40d3b7e4e8e090fc363d": {
          "model_module": "@jupyter-widgets/controls",
          "model_module_version": "1.5.0",
          "model_name": "DescriptionStyleModel",
          "state": {
            "_model_module": "@jupyter-widgets/controls",
            "_model_module_version": "1.5.0",
            "_model_name": "DescriptionStyleModel",
            "_view_count": null,
            "_view_module": "@jupyter-widgets/base",
            "_view_module_version": "1.2.0",
            "_view_name": "StyleView",
            "description_width": ""
          }
        },
        "f49e24ebf9854ff0be4147448c1c05a4": {
          "model_module": "@jupyter-widgets/controls",
          "model_module_version": "1.5.0",
          "model_name": "HBoxModel",
          "state": {
            "_dom_classes": [],
            "_model_module": "@jupyter-widgets/controls",
            "_model_module_version": "1.5.0",
            "_model_name": "HBoxModel",
            "_view_count": null,
            "_view_module": "@jupyter-widgets/controls",
            "_view_module_version": "1.5.0",
            "_view_name": "HBoxView",
            "box_style": "",
            "children": [
              "IPY_MODEL_7d2230b850e743309780c63f33d3ab57",
              "IPY_MODEL_fb7c75696d6e4a89a86953c6915746f8",
              "IPY_MODEL_a1d877c35ad74a469ead4c0674beece0"
            ],
            "layout": "IPY_MODEL_8b549c34eab34a1d859bf505d0d122fe"
          }
        },
        "fb7c75696d6e4a89a86953c6915746f8": {
          "model_module": "@jupyter-widgets/controls",
          "model_module_version": "1.5.0",
          "model_name": "FloatProgressModel",
          "state": {
            "_dom_classes": [],
            "_model_module": "@jupyter-widgets/controls",
            "_model_module_version": "1.5.0",
            "_model_name": "FloatProgressModel",
            "_view_count": null,
            "_view_module": "@jupyter-widgets/controls",
            "_view_module_version": "1.5.0",
            "_view_name": "ProgressView",
            "bar_style": "",
            "description": "",
            "description_tooltip": null,
            "layout": "IPY_MODEL_36a7bb7d061b4bc2950b0e1a2308a5cb",
            "max": 50,
            "min": 0,
            "orientation": "horizontal",
            "style": "IPY_MODEL_d9eb922716f34a3c8a2b606f2807cb68",
            "value": 12
          }
        }
      }
    }
  },
  "nbformat": 4,
  "nbformat_minor": 0
}
